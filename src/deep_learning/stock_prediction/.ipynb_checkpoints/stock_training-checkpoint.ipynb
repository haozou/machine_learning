{
 "cells": [
  {
   "cell_type": "code",
   "execution_count": 45,
   "metadata": {},
   "outputs": [],
   "source": [
    "from alpha_vantage.timeseries import TimeSeries\n",
    "import pandas as pd\n",
    "from sklearn import preprocessing\n",
    "import numpy as np\n",
    "\n",
    "def save_data(symbol):\n",
    "    API_KEY = 'DTJYUMAWMLMQYLRB'\n",
    "\n",
    "    ts = TimeSeries(key=API_KEY, output_format='pandas')\n",
    "    # Get json object with the intraday data and another with  the call's metadata\n",
    "    data, meta_data = ts.get_daily(symbol, outputsize='full')\n",
    "    data.to_csv(f'./{symbol}_daily.csv')\n",
    "\n",
    "def load_data(symbol):\n",
    "    history_points = 50\n",
    "    data = pd.read_csv(f'./{symbol}_daily.csv')\n",
    "    data = data.drop('date', axis=1)\n",
    "    data = data.drop(0, axis=0)\n",
    "    return data\n",
    "#     data_normaliser = preprocessing.MinMaxScaler()\n",
    "#     data_normalised = data_normaliser.fit_transform(data)\n",
    "#        # using the last {history_points} open high low close volume data points, predict the next open value\n",
    "    \n",
    "#     return data_normalised"
   ]
  },
  {
   "cell_type": "code",
   "execution_count": 46,
   "metadata": {},
   "outputs": [
    {
     "data": {
      "text/html": [
       "<div>\n",
       "<style scoped>\n",
       "    .dataframe tbody tr th:only-of-type {\n",
       "        vertical-align: middle;\n",
       "    }\n",
       "\n",
       "    .dataframe tbody tr th {\n",
       "        vertical-align: top;\n",
       "    }\n",
       "\n",
       "    .dataframe thead th {\n",
       "        text-align: right;\n",
       "    }\n",
       "</style>\n",
       "<table border=\"1\" class=\"dataframe\">\n",
       "  <thead>\n",
       "    <tr style=\"text-align: right;\">\n",
       "      <th></th>\n",
       "      <th>1. open</th>\n",
       "      <th>2. high</th>\n",
       "      <th>3. low</th>\n",
       "      <th>4. close</th>\n",
       "      <th>5. volume</th>\n",
       "    </tr>\n",
       "  </thead>\n",
       "  <tbody>\n",
       "    <tr>\n",
       "      <th>1</th>\n",
       "      <td>162.8235</td>\n",
       "      <td>163.220</td>\n",
       "      <td>161.1800</td>\n",
       "      <td>161.34</td>\n",
       "      <td>20733946.0</td>\n",
       "    </tr>\n",
       "    <tr>\n",
       "      <th>2</th>\n",
       "      <td>161.8350</td>\n",
       "      <td>162.215</td>\n",
       "      <td>161.0300</td>\n",
       "      <td>162.09</td>\n",
       "      <td>21399951.0</td>\n",
       "    </tr>\n",
       "    <tr>\n",
       "      <th>3</th>\n",
       "      <td>158.9300</td>\n",
       "      <td>160.800</td>\n",
       "      <td>157.9491</td>\n",
       "      <td>160.09</td>\n",
       "      <td>27762026.0</td>\n",
       "    </tr>\n",
       "    <tr>\n",
       "      <th>4</th>\n",
       "      <td>159.3200</td>\n",
       "      <td>159.670</td>\n",
       "      <td>157.3200</td>\n",
       "      <td>157.58</td>\n",
       "      <td>21881740.0</td>\n",
       "    </tr>\n",
       "    <tr>\n",
       "      <th>5</th>\n",
       "      <td>157.0800</td>\n",
       "      <td>159.100</td>\n",
       "      <td>156.5100</td>\n",
       "      <td>159.03</td>\n",
       "      <td>20826702.0</td>\n",
       "    </tr>\n",
       "    <tr>\n",
       "      <th>...</th>\n",
       "      <td>...</td>\n",
       "      <td>...</td>\n",
       "      <td>...</td>\n",
       "      <td>...</td>\n",
       "      <td>...</td>\n",
       "    </tr>\n",
       "    <tr>\n",
       "      <th>5027</th>\n",
       "      <td>110.5000</td>\n",
       "      <td>111.500</td>\n",
       "      <td>106.0000</td>\n",
       "      <td>107.00</td>\n",
       "      <td>48784100.0</td>\n",
       "    </tr>\n",
       "    <tr>\n",
       "      <th>5028</th>\n",
       "      <td>111.8100</td>\n",
       "      <td>116.500</td>\n",
       "      <td>111.7500</td>\n",
       "      <td>115.31</td>\n",
       "      <td>40741800.0</td>\n",
       "    </tr>\n",
       "    <tr>\n",
       "      <th>5029</th>\n",
       "      <td>107.1900</td>\n",
       "      <td>113.940</td>\n",
       "      <td>105.7500</td>\n",
       "      <td>112.25</td>\n",
       "      <td>36708200.0</td>\n",
       "    </tr>\n",
       "    <tr>\n",
       "      <th>5030</th>\n",
       "      <td>104.3700</td>\n",
       "      <td>108.620</td>\n",
       "      <td>101.5000</td>\n",
       "      <td>107.81</td>\n",
       "      <td>41572000.0</td>\n",
       "    </tr>\n",
       "    <tr>\n",
       "      <th>5031</th>\n",
       "      <td>108.5000</td>\n",
       "      <td>108.870</td>\n",
       "      <td>104.4400</td>\n",
       "      <td>105.81</td>\n",
       "      <td>33266200.0</td>\n",
       "    </tr>\n",
       "  </tbody>\n",
       "</table>\n",
       "<p>5031 rows × 5 columns</p>\n",
       "</div>"
      ],
      "text/plain": [
       "       1. open  2. high    3. low  4. close   5. volume\n",
       "1     162.8235  163.220  161.1800    161.34  20733946.0\n",
       "2     161.8350  162.215  161.0300    162.09  21399951.0\n",
       "3     158.9300  160.800  157.9491    160.09  27762026.0\n",
       "4     159.3200  159.670  157.3200    157.58  21881740.0\n",
       "5     157.0800  159.100  156.5100    159.03  20826702.0\n",
       "...        ...      ...       ...       ...         ...\n",
       "5027  110.5000  111.500  106.0000    107.00  48784100.0\n",
       "5028  111.8100  116.500  111.7500    115.31  40741800.0\n",
       "5029  107.1900  113.940  105.7500    112.25  36708200.0\n",
       "5030  104.3700  108.620  101.5000    107.81  41572000.0\n",
       "5031  108.5000  108.870  104.4400    105.81  33266200.0\n",
       "\n",
       "[5031 rows x 5 columns]"
      ]
     },
     "execution_count": 46,
     "metadata": {},
     "output_type": "execute_result"
    }
   ],
   "source": [
    "data = load_data('MSFT')\n",
    "data"
   ]
  },
  {
   "cell_type": "code",
   "execution_count": 87,
   "metadata": {},
   "outputs": [
    {
     "data": {
      "text/plain": [
       "array([[0.87303173],\n",
       "       [0.87519941],\n",
       "       [0.84092302],\n",
       "       ...,\n",
       "       [0.62313927],\n",
       "       [0.60403662],\n",
       "       [0.6320132 ]])"
      ]
     },
     "execution_count": 87,
     "metadata": {},
     "output_type": "execute_result"
    }
   ],
   "source": [
    "data = load_data('MSFT')\n",
    "history_points = 50\n",
    "data_normaliser = preprocessing.MinMaxScaler()\n",
    "data_normalised = data_normaliser.fit_transform(data)\n",
    "ohlcv_histories_normalised =      np.array([data_normalised[i  : i + history_points].copy() for i in range(len(data_normalised) - history_points)])\n",
    "next_day_open_values_normalised = np.array([data_normalised[i + history_points][0].copy() for i in range(len(data_normalised) - history_points)])\n",
    "next_day_open_values_normalised = np.expand_dims(next_day_open_values_normalised, -1)\n",
    "\n",
    "next_day_open_values_normalised"
   ]
  },
  {
   "cell_type": "code",
   "execution_count": 77,
   "metadata": {},
   "outputs": [
    {
     "data": {
      "text/plain": [
       "1.0"
      ]
     },
     "execution_count": 77,
     "metadata": {},
     "output_type": "execute_result"
    }
   ],
   "source": [
    "data_normalised[:,0][0]"
   ]
  },
  {
   "cell_type": "code",
   "execution_count": null,
   "metadata": {},
   "outputs": [],
   "source": []
  }
 ],
 "metadata": {
  "kernelspec": {
   "display_name": "Python 3",
   "language": "python",
   "name": "python3"
  },
  "language_info": {
   "codemirror_mode": {
    "name": "ipython",
    "version": 3
   },
   "file_extension": ".py",
   "mimetype": "text/x-python",
   "name": "python",
   "nbconvert_exporter": "python",
   "pygments_lexer": "ipython3",
   "version": "3.6.8"
  }
 },
 "nbformat": 4,
 "nbformat_minor": 2
}
